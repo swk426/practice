{
 "cells": [
  {
   "cell_type": "markdown",
   "metadata": {},
   "source": [
    "# Triple Trouble - Code War"
   ]
  },
  {
   "cell_type": "markdown",
   "metadata": {},
   "source": [
    "Create a function that will return a string that combines all of the letters of the three inputed strings in groups. Taking the first letter of all of the inputs and grouping them next to each other. Do this for every letter, see example below!\n",
    "\n",
    "E.g. Input: \"aa\", \"bb\" , \"cc\" => Output: \"abcabc\"\n",
    "\n",
    "Note: You can expect all of the inputs to be the same length."
   ]
  },
  {
   "cell_type": "raw",
   "metadata": {},
   "source": [
    "Solution: Below"
   ]
  },
  {
   "cell_type": "code",
   "execution_count": 1,
   "metadata": {},
   "outputs": [],
   "source": [
    "def triple_trouble(one, two, three):\n",
    "    solution =[]\n",
    "    \n",
    "    for i in range(len(list(one))):\n",
    "        solution.append(list(one)[i])\n",
    "        solution.append(list(two)[i])\n",
    "        solution.append(list(three)[i])\n",
    "                    \n",
    "    return print(''.join(solution))"
   ]
  },
  {
   "cell_type": "markdown",
   "metadata": {},
   "source": [
    "Other people's Answer"
   ]
  },
  {
   "cell_type": "code",
   "execution_count": 2,
   "metadata": {},
   "outputs": [],
   "source": [
    "def triple_trouble(one, two, three):\n",
    "    return ''.join(''.join(a) for a in zip(one, two, three))"
   ]
  },
  {
   "cell_type": "code",
   "execution_count": 3,
   "metadata": {},
   "outputs": [],
   "source": [
    "def triple_trouble(*args):\n",
    "        return \"\".join(\"\".join(a) for a in zip(*args))"
   ]
  },
  {
   "cell_type": "code",
   "execution_count": 4,
   "metadata": {},
   "outputs": [],
   "source": [
    "def triple_trouble(one, two, three):\n",
    "    a = one.split(\" \")\n",
    "    a = map(lambda x, y, z: x + y + z, one, two, three)\n",
    "    return \"\".join(a)"
   ]
  },
  {
   "cell_type": "code",
   "execution_count": 5,
   "metadata": {},
   "outputs": [],
   "source": [
    "def triple_trouble(one, two, three):\n",
    "    ans = ''\n",
    "    for i in range(len(one)):\n",
    "        ans+=one[i]\n",
    "        ans+=two[i]\n",
    "        ans+=three[i]\n",
    "    return ans"
   ]
  },
  {
   "cell_type": "code",
   "execution_count": 6,
   "metadata": {},
   "outputs": [],
   "source": [
    "def triple_trouble(*args):\n",
    "    return ''.join(sum(zip(*args), ()))"
   ]
  }
 ],
 "metadata": {
  "kernelspec": {
   "display_name": "Python 3",
   "language": "python",
   "name": "python3"
  },
  "language_info": {
   "codemirror_mode": {
    "name": "ipython",
    "version": 3
   },
   "file_extension": ".py",
   "mimetype": "text/x-python",
   "name": "python",
   "nbconvert_exporter": "python",
   "pygments_lexer": "ipython3",
   "version": "3.7.4"
  }
 },
 "nbformat": 4,
 "nbformat_minor": 2
}
